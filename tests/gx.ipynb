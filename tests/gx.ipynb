{
 "cells": [
  {
   "cell_type": "code",
   "execution_count": 1,
   "metadata": {},
   "outputs": [
    {
     "data": {
      "text/plain": [
       "'/home/naveen/mlops/tests'"
      ]
     },
     "execution_count": 1,
     "metadata": {},
     "output_type": "execute_result"
    }
   ],
   "source": [
    "pwd"
   ]
  },
  {
   "cell_type": "code",
   "execution_count": null,
   "metadata": {},
   "outputs": [],
   "source": [
    "import great_expectations as gx\n",
    "\n",
    "# Create context\n",
    "context = gx.get_context()\n",
    "context = context.convert_to_file_context()\n",
    "\n",
    "# Create a Datasource\n",
    "datasource_name = \"local_data\"\n",
    "path_to_folder_containing_csv_files = \"../data/\"\n",
    "datasource = context.sources.add_pandas_filesystem(\n",
    "    name=datasource_name, base_directory=path_to_folder_containing_csv_files\n",
    ")\n",
    "\n",
    "# Add Data Assets to the Datasource\n",
    "asset_name = \"projects\"\n",
    "batching_regex = \"projects.csv\"\n",
    "datasource.add_csv_asset(name=asset_name, batching_regex=batching_regex)\n",
    "asset_name = \"tags\"\n",
    "batching_regex = \"tags.csv\"\n",
    "datasource.add_csv_asset(name=asset_name, batching_regex=batching_regex)\n",
    "asset_name = \"labeled_projects\"\n",
    "batching_regex = \"labeled_projects.csv\"\n",
    "datasource.add_csv_asset(name=asset_name, batching_regex=batching_regex)\n",
    "\n",
    "# Create an ExpectationSuite - projects\n",
    "suite = context.add_expectation_suite(expectation_suite_name=\"projects\")\n",
    "# Use an existing Data Asset to create a Batch Request\n",
    "data_asset = context.get_datasource(\"local_data\").get_asset(\"projects\")\n",
    "batch_request = data_asset.build_batch_request()\n",
    "# Create a Validator\n",
    "validator = context.get_validator(\n",
    "    batch_request=batch_request,\n",
    "    expectation_suite_name=\"projects\",\n",
    ")\n",
    "# Use the Validator to create and run an Expectation\n",
    "## Expectations for projects.csv\n",
    "### Table expectations:\n",
    "# Presence of features\n",
    "_ = validator.expect_table_columns_to_match_ordered_list(\n",
    "    column_list=[\"id\", \"created_on\", \"title\", \"description\"])\n",
    "_ = validator.expect_compound_columns_to_be_unique(column_list=[\"title\", \"description\"])  # data leak\n",
    "## Column expectations:\n",
    "# id\n",
    "_ = validator.expect_column_values_to_be_unique(column=\"id\")\n",
    "# create_on\n",
    "_ = validator.expect_column_values_to_not_be_null(column=\"created_on\")\n",
    "_ = validator.expect_column_values_to_match_strftime_format(\n",
    "    column=\"created_on\", strftime_format=\"%Y-%m-%d %H:%M:%S\")\n",
    "# title\n",
    "_ = validator.expect_column_values_to_not_be_null(column=\"title\")\n",
    "validator.expect_column_values_to_be_of_type(column=\"title\", type_=\"str\")\n",
    "# description\n",
    "_ = validator.expect_column_values_to_not_be_null(column=\"description\")\n",
    "_ = validator.expect_column_values_to_be_of_type(column=\"description\", type_=\"str\")\n",
    "# Save Expectations for future use\n",
    "validator.save_expectation_suite(discard_failed_expectations=False)\n",
    "\n",
    "# Create an ExpectationSuite - tags\n",
    "suite = context.add_expectation_suite(expectation_suite_name=\"tags\")\n",
    "# Use an existing Data Asset to create a Batch Request\n",
    "data_asset = context.get_datasource(\"local_data\").get_asset(\"tags\")\n",
    "batch_request = data_asset.build_batch_request()\n",
    "# Create a Validator\n",
    "validator = context.get_validator(\n",
    "    batch_request=batch_request,\n",
    "    expectation_suite_name=\"tags\",\n",
    ")\n",
    "# Use the Validator to create and run an Expectation\n",
    "## Expectations for tags.csv\n",
    "### Table expectations:\n",
    "# Presence of features\n",
    "_ = validator.expect_table_columns_to_match_ordered_list(\n",
    "    column_list=[\"id\", \"tag\"])\n",
    "## Column expectations:\n",
    "# id\n",
    "_ = validator.expect_column_values_to_be_unique(column=\"id\")\n",
    "# tag\n",
    "_ = validator.expect_column_values_to_not_be_null(column=\"tag\")\n",
    "_ = validator.expect_column_values_to_be_of_type(column=\"tag\", type_=\"str\")\n",
    "# Save Expectations for future use\n",
    "validator.save_expectation_suite(discard_failed_expectations=False)\n",
    "\n",
    "# Create an ExpectationSuite - labeled_projects\n",
    "suite = context.add_expectation_suite(expectation_suite_name=\"labeled_projects\")\n",
    "# Use an existing Data Asset to create a Batch Request\n",
    "data_asset = context.get_datasource(\"local_data\").get_asset(\"labeled_projects\")\n",
    "batch_request = data_asset.build_batch_request()\n",
    "# Create a Validator\n",
    "validator = context.get_validator(\n",
    "    batch_request=batch_request,\n",
    "    expectation_suite_name=\"labeled_projects\",\n",
    ")\n",
    "# Use the Validator to create and run an Expectation\n",
    "## Expectations for labeled_projects.csv\n",
    "### Table expectations:\n",
    "# Presence of features\n",
    "_ = validator.expect_table_columns_to_match_ordered_list(\n",
    "    column_list=[\"id\", \"created_on\", \"title\", \"description\", \"tag\"])\n",
    "_ = validator.expect_compound_columns_to_be_unique(column_list=[\"title\", \"description\"])  # data leak\n",
    "### Column expectations:\n",
    "# id\n",
    "_ = validator.expect_column_values_to_be_unique(column=\"id\")\n",
    "# create_on\n",
    "_ = validator.expect_column_values_to_not_be_null(column=\"created_on\")\n",
    "_ = validator.expect_column_values_to_match_strftime_format(\n",
    "    column=\"created_on\", strftime_format=\"%Y-%m-%d %H:%M:%S\")\n",
    "# title\n",
    "_ = validator.expect_column_values_to_not_be_null(column=\"title\")\n",
    "_ = validator.expect_column_values_to_be_of_type(column=\"title\", type_=\"str\")\n",
    "# description\n",
    "_ = validator.expect_column_values_to_not_be_null(column=\"description\")\n",
    "_ = validator.expect_column_values_to_be_of_type(column=\"description\", type_=\"str\")\n",
    "# tag\n",
    "_ = validator.expect_column_values_to_not_be_null(column=\"tag\")\n",
    "_ = validator.expect_column_values_to_be_of_type(column=\"tag\", type_=\"str\")\n",
    "# Save Expectations for future use\n",
    "validator.save_expectation_suite(discard_failed_expectations=False)"
   ]
  },
  {
   "cell_type": "code",
   "execution_count": null,
   "metadata": {},
   "outputs": [],
   "source": [
    "# Create \"projects\" Checkpoint\n",
    "datasource_name = \"local_data\"\n",
    "asset_name = \"projects\"\n",
    "expectation_suite_name=\"projects\"\n",
    "checkpoint_name = \"projects\"\n",
    "batch_request = context.get_datasource(datasource_name).get_asset(asset_name).build_batch_request()\n",
    "checkpoint = gx.checkpoint.SimpleCheckpoint(\n",
    "    name=checkpoint_name,\n",
    "    data_context=context,\n",
    "    validations=[\n",
    "        {\n",
    "            \"batch_request\": batch_request,\n",
    "            \"expectation_suite_name\": expectation_suite_name,\n",
    "        },\n",
    "    ],\n",
    ")\n",
    "\n",
    "context.add_checkpoint(checkpoint=checkpoint)"
   ]
  },
  {
   "cell_type": "code",
   "execution_count": null,
   "metadata": {},
   "outputs": [],
   "source": [
    "# Create \"tags\" Checkpoint\n",
    "datasource_name = \"local_data\"\n",
    "asset_name = \"tags\"\n",
    "expectation_suite_name=\"tags\"\n",
    "checkpoint_name = \"tags\"\n",
    "batch_request = context.get_datasource(datasource_name).get_asset(asset_name).build_batch_request()\n",
    "checkpoint = gx.checkpoint.SimpleCheckpoint(\n",
    "    name=checkpoint_name,\n",
    "    data_context=context,\n",
    "    validations=[\n",
    "        {\n",
    "            \"batch_request\": batch_request,\n",
    "            \"expectation_suite_name\": expectation_suite_name,\n",
    "        },\n",
    "    ],\n",
    ")\n",
    "\n",
    "context.add_checkpoint(checkpoint=checkpoint)"
   ]
  },
  {
   "cell_type": "code",
   "execution_count": null,
   "metadata": {},
   "outputs": [],
   "source": [
    "# Create \"labeled_projects\" Checkpoint\n",
    "datasource_name = \"local_data\"\n",
    "asset_name = \"labeled_projects\"\n",
    "expectation_suite_name=\"labeled_projects\"\n",
    "checkpoint_name = \"labeled_projects\"\n",
    "batch_request = context.get_datasource(datasource_name).get_asset(asset_name).build_batch_request()\n",
    "checkpoint = gx.checkpoint.SimpleCheckpoint(\n",
    "    name=checkpoint_name,\n",
    "    data_context=context,\n",
    "    validations=[\n",
    "        {\n",
    "            \"batch_request\": batch_request,\n",
    "            \"expectation_suite_name\": expectation_suite_name,\n",
    "        },\n",
    "    ],\n",
    ")\n",
    "\n",
    "context.add_checkpoint(checkpoint=checkpoint)"
   ]
  },
  {
   "cell_type": "code",
   "execution_count": 17,
   "metadata": {},
   "outputs": [
    {
     "data": {
      "application/vnd.jupyter.widget-view+json": {
       "model_id": "9338f205662745069ce6caa8f26abe35",
       "version_major": 2,
       "version_minor": 0
      },
      "text/plain": [
       "Calculating Metrics:   0%|          | 0/46 [00:00<?, ?it/s]"
      ]
     },
     "metadata": {},
     "output_type": "display_data"
    },
    {
     "data": {
      "application/vnd.jupyter.widget-view+json": {
       "model_id": "c9e6b1a3aaf94f50a2e1d05b685f23f6",
       "version_major": 2,
       "version_minor": 0
      },
      "text/plain": [
       "Calculating Metrics:   0%|          | 0/20 [00:00<?, ?it/s]"
      ]
     },
     "metadata": {},
     "output_type": "display_data"
    },
    {
     "data": {
      "application/vnd.jupyter.widget-view+json": {
       "model_id": "f11750c23626475c812c431a2cafa6ff",
       "version_major": 2,
       "version_minor": 0
      },
      "text/plain": [
       "Calculating Metrics:   0%|          | 0/56 [00:00<?, ?it/s]"
      ]
     },
     "metadata": {},
     "output_type": "display_data"
    },
    {
     "data": {
      "text/plain": [
       "{'local_site': 'file:///home/naveen/mlops/tests/great_expectations/uncommitted/data_docs/local_site/index.html'}"
      ]
     },
     "execution_count": 17,
     "metadata": {},
     "output_type": "execute_result"
    }
   ],
   "source": [
    "_ = context.get_checkpoint(name=\"projects\").run()\n",
    "_ = context.get_checkpoint(name=\"tags\").run()\n",
    "_ = context.get_checkpoint(name=\"labeled_projects\").run()\n",
    "context.build_data_docs()"
   ]
  },
  {
   "cell_type": "code",
   "execution_count": null,
   "metadata": {},
   "outputs": [],
   "source": []
  }
 ],
 "metadata": {
  "kernelspec": {
   "display_name": "venv",
   "language": "python",
   "name": "python3"
  },
  "language_info": {
   "codemirror_mode": {
    "name": "ipython",
    "version": 3
   },
   "file_extension": ".py",
   "mimetype": "text/x-python",
   "name": "python",
   "nbconvert_exporter": "python",
   "pygments_lexer": "ipython3",
   "version": "3.8.10"
  },
  "orig_nbformat": 4
 },
 "nbformat": 4,
 "nbformat_minor": 2
}
